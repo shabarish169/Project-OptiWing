{
  "cells": [
    {
      "cell_type": "code",
      "execution_count": 1,
      "metadata": {
        "id": "m8x446JBi6TU"
      },
      "outputs": [],
      "source": [
        "#importing Required Libraries\n",
        "\n",
        "import numpy as np\n",
        "import os\n",
        "import torch\n",
        "import torch.nn as nn\n",
        "import torch.optim as optim\n",
        "import matplotlib.pyplot as plt\n",
        "import csv\n",
        "import matplotlib.ticker\n",
        "import math"
      ]
    },
    {
      "cell_type": "code",
      "execution_count": null,
      "metadata": {
        "id": "0FnCXen5kFJ3"
      },
      "outputs": [],
      "source": [
        "#cloning the dataset from my repo\n",
        "!git clone https://github.com/TensorTeen/Optiwing-Cp-Plots"
      ]
    },
    {
      "cell_type": "code",
      "source": [
        "device = 'cuda'"
      ],
      "metadata": {
        "id": "tnzIpjxA_Qgb"
      },
      "execution_count": 4,
      "outputs": []
    },
    {
      "cell_type": "code",
      "execution_count": 5,
      "metadata": {
        "id": "Bt4lkGnjj085"
      },
      "outputs": [],
      "source": [
        "#getting file names\n",
        "path = r\"Optiwing-Cp-Plots\"\n",
        "os.chdir(path)\n",
        "l = np.array([x for x in os.listdir(\"./\")])"
      ]
    },
    {
      "cell_type": "markdown",
      "source": [
        "###Deserializing the data into arrays\n"
      ],
      "metadata": {
        "id": "gqzdKRwa2GnB"
      }
    },
    {
      "cell_type": "code",
      "execution_count": 6,
      "metadata": {
        "id": "DgzIqdyUkT58"
      },
      "outputs": [],
      "source": [
        "\n",
        "# contains all the cp values\n",
        "X = []\n",
        "# Contains all the x,y values\n",
        "Y = []\n",
        "for i in l:\n",
        "  try:\n",
        "    with open(i) as f:\n",
        "      try :\n",
        "        next(f)\n",
        "        next(f)\n",
        "        next(f)\n",
        "      except:\n",
        "        continue\n",
        "      x = []\n",
        "      y = []\n",
        "      cp = []\n",
        "      for j in f :\n",
        "        try :\n",
        "          tmp = [float(j[:10]), float(j[10:19]),float(j[19:28])]\n",
        "          x.append(tmp[0])\n",
        "          y.append(tmp[1])\n",
        "          cp.append(tmp[2])\n",
        "        except :\n",
        "          break\n",
        "      else:\n",
        "        if len(cp) == 160 :\n",
        "          X.append([x,cp])\n",
        "          Y.append([x,y])\n",
        "  except IsADirectoryError:\n",
        "      pass"
      ]
    },
    {
      "cell_type": "markdown",
      "source": [
        "###reshaping tensors for convinience\n"
      ],
      "metadata": {
        "id": "CTp6N37h2Bkn"
      }
    },
    {
      "cell_type": "code",
      "execution_count": null,
      "metadata": {
        "id": "O-SF3k2ekd3t"
      },
      "outputs": [],
      "source": [
        "X = torch.tensor(X, dtype=torch.float32)\n",
        "y = torch.tensor(Y)\n",
        "x = X[:,0,:]\n",
        "Cp = X[:,1,:]\n",
        "X = torch.cat((x,Cp),dim=1)\n",
        "y = y.flatten(start_dim=1)\n",
        "X.shape"
      ]
    },
    {
      "cell_type": "markdown",
      "source": [
        "###assuming one of the airfoils in train set to be base airfoil"
      ],
      "metadata": {
        "id": "OsJDNlD62Kjr"
      }
    },
    {
      "cell_type": "code",
      "source": [
        "x_init,y_init = y[10][:160].reshape(1,160),y[10][160:].reshape(1,160)"
      ],
      "metadata": {
        "id": "SgWlHO5b32FD"
      },
      "execution_count": 8,
      "outputs": []
    },
    {
      "cell_type": "markdown",
      "source": [
        "###splitting the data into training and testing set\n"
      ],
      "metadata": {
        "id": "dMJCsXAO2UYy"
      }
    },
    {
      "cell_type": "code",
      "execution_count": 9,
      "metadata": {
        "id": "SyV9XOWHkf3B"
      },
      "outputs": [],
      "source": [
        "\n",
        "train_size = int(0.8 * len(X))\n",
        "test_size = len(X) - train_size\n",
        "X_train, X_test = X[:train_size],X[train_size:]\n",
        "y_train, y_test = y[:train_size],y[train_size:]"
      ]
    },
    {
      "cell_type": "markdown",
      "source": [
        "###Defining the model\n"
      ],
      "metadata": {
        "id": "R_gZlDpj2Wb3"
      }
    },
    {
      "cell_type": "code",
      "execution_count": 10,
      "metadata": {
        "id": "bJwYJa45kheZ"
      },
      "outputs": [],
      "source": [
        "class Model(nn.Module):\n",
        "\n",
        "    def __init__(self,n):\n",
        "        super().__init__()\n",
        "        self.n = n\n",
        "        self.hidden1 = nn.Linear(320, 512)\n",
        "        self.act1 = nn.ReLU()\n",
        "        self.hidden2 = nn.Linear(512,1024)\n",
        "        self.act2 = nn.ReLU()\n",
        "        self.hidden3 = nn.Linear(1024,2048)\n",
        "        self.act3 = nn.ReLU()\n",
        "        self.hidden4 = nn.Linear(2048,1024)\n",
        "        self.act4 = nn.ReLU()\n",
        "        self.hidden5 = nn.Linear(1024,512)\n",
        "        self.act5 = nn.ReLU()\n",
        "        self.dropout = nn.Dropout(p=0.2)\n",
        "        self.hidden6 = nn.Linear(512,256)\n",
        "        self.act6 = nn.ReLU()\n",
        "        self.hidden7 = nn.Linear(256,80)\n",
        "        self.act7 = nn.ReLU()\n",
        "        self.output = nn.Linear(80,n)\n",
        "\n",
        "    def forward(self, x):\n",
        "        x = self.act1(self.hidden1(x))\n",
        "        x = self.act2(self.hidden2(x))\n",
        "        x = self.act3(self.hidden3(x))\n",
        "        x = self.act4(self.hidden4(x))\n",
        "        x = self.act5(self.hidden5(x))\n",
        "        x = self.dropout(x)\n",
        "        x = self.act6(self.hidden6(x))\n",
        "        x = self.act7(self.hidden7(x))\n",
        "        x = self.output(x)\n",
        "        return x"
      ]
    },
    {
      "cell_type": "markdown",
      "source": [
        "\n",
        "###few things being assumed:\n",
        "\n",
        "\n",
        "*   all x values are same as x_init for all the airfoils\n",
        "\n",
        "\n"
      ],
      "metadata": {
        "id": "ph8favep2u54"
      }
    },
    {
      "cell_type": "markdown",
      "source": [
        "###This is the hicks function of ith order\n",
        "$$f_i(x) = \\sin ^{t_{i}}\\left(\\pi x^{\\left(\\ln (0.5) / \\ln \\left(h_{i}\\right)\\right)}\\right) $$"
      ],
      "metadata": {
        "id": "h3ZZFlqz312c"
      }
    },
    {
      "cell_type": "code",
      "source": [
        "def hicks_fni(x:torch.Tensor,i:torch.Tensor,n:int,device):\n",
        "  x = x[0]\n",
        "  hi = 0.5*(1-torch.cos(torch.mul(i,math.pi*(1/(n+1))))).reshape(n,1).to(device)\n",
        "  out = x #check this\n",
        "  out = torch.pow(out, torch.div( math.log(0.5), torch.log(hi)))\n",
        "  out = torch.mul(math.pi,out)\n",
        "  ti = 4\n",
        "  out = torch.sin(out)\n",
        "  out = torch.pow(out,ti)\n",
        "  return out"
      ],
      "metadata": {
        "id": "phBBjXbL2KVL"
      },
      "execution_count": 11,
      "outputs": []
    },
    {
      "cell_type": "markdown",
      "source": [
        "###This combines all order hick functions to generate y\n",
        "$$\\Sigma a_i f_i(x)$$"
      ],
      "metadata": {
        "id": "v7CuZ6zs4MWI"
      }
    },
    {
      "cell_type": "code",
      "execution_count": 12,
      "metadata": {
        "id": "MRsqhG-lscV0"
      },
      "outputs": [],
      "source": [
        "def fn(x,x_init,y_init,net,device):\n",
        "  y_deformed = y_init\n",
        "  a = net(x)\n",
        "  n = net.n\n",
        "  i = torch.Tensor(range(1,n+1)).to(device)\n",
        "  Del_y = torch.matmul(a,hicks_fni(x_init,i,net.n,device=device))\n",
        "  y_deformed = y_deformed + Del_y\n",
        "  return y_deformed"
      ]
    },
    {
      "cell_type": "markdown",
      "source": [
        "###Train Loop"
      ],
      "metadata": {
        "id": "9C2UrZBN9Ky8"
      }
    },
    {
      "cell_type": "code",
      "execution_count": 13,
      "metadata": {
        "id": "hUGhCewikkrT"
      },
      "outputs": [],
      "source": [
        "def train(n_epochs:int, batch_size:int,model,device='cpu',lr=0.001):\n",
        "    \"\"\"Function used to Train the model given training parameters\n",
        "\n",
        "    Args:\n",
        "        n_epochs (int): number of epochs\n",
        "        batch_size (int): Batch_size for Adam optimizer\n",
        "        model (Pytorch Model): Pytorch model object to be trained\n",
        "        lr (float, optional): Learning rate. Defaults to 0.001.\n",
        "\n",
        "    Returns:\n",
        "        tuple: tuple containing trained model and loss\n",
        "    \"\"\"\n",
        "    model.train()\n",
        "    loss_fn = nn.MSELoss()\n",
        "    optimizer = optim.Adam(model.parameters(), lr=lr)\n",
        "    global L\n",
        "    L = []\n",
        "    for epoch in range(n_epochs):\n",
        "        for i in range(0, len(X_train), batch_size):\n",
        "            global x_init\n",
        "            global y_init\n",
        "            x_init = x_init.to(device)\n",
        "            y_init = y_init.to(device)\n",
        "            Xbatch = X_train[i:i+batch_size]\n",
        "            Xbatch = Xbatch.to(device)\n",
        "            ybatch = y_train[i:i+batch_size][:,160:]\n",
        "            ybatch = ybatch.to(device)\n",
        "            y_pred = fn(Xbatch,x_init.repeat_interleave(len(Xbatch),dim=0),y_init.repeat_interleave(len(Xbatch),dim=0),model,device=device)\n",
        "            loss = loss_fn(y_pred, ybatch)\n",
        "            optimizer.zero_grad()\n",
        "            loss.backward()\n",
        "            optimizer.step()\n",
        "        L.append(loss)\n",
        "        print(f'Finished epoch {epoch}, latest loss {loss}')\n",
        "    return loss,model"
      ]
    },
    {
      "cell_type": "code",
      "execution_count": 14,
      "metadata": {
        "id": "F4lMgNrnknsI"
      },
      "outputs": [],
      "source": [
        "def evaluate(X_test,y_test,model):\n",
        "    \"\"\"Function used to evaluate the model\n",
        "\n",
        "    Args:\n",
        "        X_test (Torch.Tensor): Test Values for Cp\n",
        "        y_test (Torch.Tensor): Test Values for x,y\n",
        "        model (Pytorch Model): torch model to be evaluated\n",
        "\n",
        "    Returns:\n",
        "        _type_: _description_\n",
        "    \"\"\"\n",
        "    with torch.no_grad():\n",
        "        y_pred = fn(Xbatch,x_init.repeat_interleave(len(Xbatch),dim=0),y_init.repeat_interleave(len(Xbatch),dim=0),model,device=device)\n",
        "    loss = (y_pred - y_test).float()**2\n",
        "    loss = loss.mean()\n",
        "    return loss\n"
      ]
    },
    {
      "cell_type": "code",
      "source": [
        "model = Model(80)\n",
        "if device == \"cuda\":\n",
        "  model.cuda()\n",
        "for parameters in model.parameters():\n",
        "  parameters.requires_grad = True\n",
        "loss, model = train(50,10,model,device,1e-4)"
      ],
      "metadata": {
        "id": "fqsrmsJFZ2Zk"
      },
      "execution_count": null,
      "outputs": []
    },
    {
      "cell_type": "code",
      "source": [
        "torch.save(model,\"/content/50_Epoch_Hicks.pth\")"
      ],
      "metadata": {
        "id": "MZ9HxN4ZwnIt"
      },
      "execution_count": null,
      "outputs": []
    },
    {
      "cell_type": "code",
      "source": [
        "inference_model = torch.load(\"/content/500_Epoch_Hicks.pth\")"
      ],
      "metadata": {
        "id": "pfGVlGTBz2ml"
      },
      "execution_count": null,
      "outputs": []
    },
    {
      "cell_type": "code",
      "source": [
        "L = [float(i) for i in L]"
      ],
      "metadata": {
        "id": "88hZKGg-fqb3"
      },
      "execution_count": null,
      "outputs": []
    },
    {
      "cell_type": "code",
      "source": [
        "plt.plot(range(500),L)\n",
        "plt.yscale('log')\n",
        "plt.title('Loss vs epoch(log scale)')"
      ],
      "metadata": {
        "id": "kOm1vxMwfBAU"
      },
      "execution_count": null,
      "outputs": []
    },
    {
      "cell_type": "code",
      "source": [
        "with torch.no_grad():\n",
        "      y_pred = fn(X_train[50].to('cuda'),x_init.repeat_interleave(1,dim=0),y_init.repeat_interleave(1,dim=0),inference_model,device='cuda')"
      ],
      "metadata": {
        "id": "3fzyDy67DalT"
      },
      "execution_count": null,
      "outputs": []
    },
    {
      "cell_type": "code",
      "source": [
        "y_test[0].shape"
      ],
      "metadata": {
        "id": "KcAT857JFEGM"
      },
      "execution_count": null,
      "outputs": []
    },
    {
      "cell_type": "code",
      "source": [
        "plt.plot(x_init.cpu().numpy().reshape(160),y_pred.cpu().numpy().reshape(160))\n",
        "plt.plot(y_train[50][:160].cpu().numpy().reshape(160),y_train[50][160:])\n",
        "plt.legend(['Parameterized','Original'])"
      ],
      "metadata": {
        "id": "1-Y7l9j2Ety_"
      },
      "execution_count": null,
      "outputs": []
    },
    {
      "cell_type": "markdown",
      "source": [
        "#some observation\n",
        "\n",
        "\n",
        "*   The underlying fn seems to make the trailing edge wavy in nature\n",
        "*   For wings with $Δy << 1$, the bump functions seems to work well\n",
        "\n"
      ],
      "metadata": {
        "id": "KtJ7UrFwxYQ7"
      }
    }
  ],
  "metadata": {
    "colab": {
      "provenance": [],
      "gpuType": "T4"
    },
    "kernelspec": {
      "display_name": "Python 3",
      "name": "python3"
    },
    "language_info": {
      "name": "python"
    },
    "accelerator": "GPU"
  },
  "nbformat": 4,
  "nbformat_minor": 0
}